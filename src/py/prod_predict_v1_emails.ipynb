{
 "cells": [
  {
   "cell_type": "code",
   "execution_count": 8,
   "metadata": {},
   "outputs": [],
   "source": [
    "\n",
    "# Snowpark for Python\n",
    "import snowflake.snowpark\n",
    "from snowflake.snowpark import Session\n",
    "from snowflake.snowpark.functions import udf, sproc\n",
    "\n",
    "cn_params = {\n",
    "    \"user\": \"USERNAME\",\n",
    "    \"password\": \"PASSWORD\",\n",
    "    \"account\": \"SERVER\", \n",
    "    \"warehouse\": \"WAREHOUSE\",\n",
    "    \"database\" : \"EDWPRODHH\",\n",
    "    \"schema\" : \"PUB_MBUTLER\"\n",
    "}\n",
    "\n",
    "snowpark_session = Session.builder.configs(cn_params).create()\n",
    "\n",
    "snowpark_session.add_packages('snowflake-snowpark-python', 'xgboost', 'pandas', 'numpy', 'joblib', 'cachetools')\n",
    "\n",
    "\n",
    "\n",
    "def train_emails_v1 (session: Session) -> str:\n",
    "    \n",
    "    from joblib import dump\n",
    "    from sklearn.pipeline import Pipeline\n",
    "    from sklearn.model_selection import GridSearchCV\n",
    "    from xgboost import XGBRegressor\n",
    "    import pandas as pd\n",
    "    ##  READ DATA\n",
    "    \n",
    "#     df_project = session.table(\"CONTACT_STRATEGY_EMAILS_6\")\n",
    "#     df = df_project.to_pandas()\n",
    "  \n",
    "   \n",
    "    df = session.sql(\"\"\"\n",
    "    SELECT *\n",
    "    FROM EDWPRODHH.PUB_MBUTLER.CONTACT_STRATEGY_EMAILS_6\n",
    "    \"\"\").to_pandas()\n",
    "    labels = df[\"DOL_COMMISSION_ATTR\"]\n",
    "    features = df.drop(\n",
    "        [\n",
    "            \"DOL_COMMISSION_ATTR\"\n",
    "        ],\n",
    "        axis = 1\n",
    "    )\n",
    "    ##  FIT AND TUNE HYPERPARAMETERS\n",
    "    pipeline = XGBRegressor(\n",
    "            n_jobs = 16, ##\n",
    "            random_state = 42,\n",
    "            \n",
    "        )\n",
    "    parameter_grid = {\n",
    "        \"n_estimators\": [150], ## [1-Inf]. Number of trees, aka iterations/steps. Controls stopping point.\n",
    "        \"max_depth\": [9], ## [0-20]. Depth of tree, where 0 is unlimited.\n",
    "        \"learning_rate\": [0.6], ## [0-1]. Lower means more iterations but more accuracy (small steps).\n",
    "        \"gamma\": [1],\n",
    "        \"sub_sample\": [1], ## [0-1]. % of sample to train on.\n",
    "        \"colsample_bytree\": [1] ## [0-1]. % of variables to train on.\n",
    "    }\n",
    "    model = GridSearchCV(\n",
    "        estimator = pipeline,\n",
    "        param_grid = parameter_grid,\n",
    "        cv = 5,\n",
    "    #         scoring = \"neg_median_absolute_error\",\n",
    "    #         scoring = \"neg_mean_squared_error\",\n",
    "        scoring = \"r2\",\n",
    "        verbose = True\n",
    "    )\n",
    "    model.fit(features, labels)\n",
    "    dump_path = \"/tmp/train_emails_v1.joblib\"\n",
    "    dump(model, dump_path)\n",
    "    session.file.put(\n",
    "        dump_path,\n",
    "        \"@prod_models\",\n",
    "        overwrite = True\n",
    "    )\n",
    "    print(model.best_params_)\n",
    "    print(model.best_score_)\n",
    "    return (\"Best Parameters: \" + str(model.best_params_) + \" with Best Score: \" + str(model.best_score_) + \".\")\n"
   ]
  },
  {
   "cell_type": "code",
   "execution_count": 10,
   "metadata": {},
   "outputs": [
    {
     "data": {
      "text/plain": [
       "<snowflake.snowpark.stored_procedure.StoredProcedure at 0x1878e85e670>"
      ]
     },
     "execution_count": 10,
     "metadata": {},
     "output_type": "execute_result"
    }
   ],
   "source": [
    "snowpark_session.sproc.register(\n",
    "    func = train_emails_v1,\n",
    "    name = \"train_emails_v1\",\n",
    "    replace = True\n",
    ")"
   ]
  },
  {
   "cell_type": "code",
   "execution_count": 11,
   "metadata": {},
   "outputs": [
    {
     "data": {
      "text/plain": [
       "\"Best Parameters: {'colsample_bytree': 1, 'gamma': 1, 'learning_rate': 0.6, 'max_depth': 9, 'n_estimators': 150, 'sub_sample': 1} with Best Score: 0.535523093039143.\""
      ]
     },
     "execution_count": 11,
     "metadata": {},
     "output_type": "execute_result"
    }
   ],
   "source": [
    "snowpark_session.call(\"train_emails_v1\")"
   ]
  },
  {
   "cell_type": "code",
   "execution_count": 12,
   "metadata": {},
   "outputs": [],
   "source": [
    "\n",
    "\n",
    "snowpark_session.add_import(\"@edwprodhh.hermes.prod_models/train_emails_v1.joblib.gz\")"
   ]
  },
  {
   "cell_type": "code",
   "execution_count": 13,
   "metadata": {},
   "outputs": [
    {
     "name": "stderr",
     "output_type": "stream",
     "text": [
      "The version of package joblib in the local environment is 1.2.0, which does not fit the criteria for the requirement joblib. Your UDF might not work when the package version is different between the server and your local environment\n",
      "The version of package xgboost in the local environment is 1.7.5, which does not fit the criteria for the requirement xgboost. Your UDF might not work when the package version is different between the server and your local environment\n"
     ]
    }
   ],
   "source": [
    "@udf (name = \"prod_predict_v1_emails\", stage_location = '@prod_models', session = snowpark_session, packages = [\"pandas\", \"joblib\", \"scikit-learn\", \"xgboost\"], replace = True)\n",
    "def predict_Email_rev_v1 (inputs: list) -> float:\n",
    "    \n",
    "    import sys\n",
    "    import pandas as pd\n",
    "    import numpy as np\n",
    "    from joblib import load\n",
    "        \n",
    "        \n",
    "    IMPORT_DIRECTORY_NAME = \"snowflake_import_directory\"\n",
    "    import_dir = sys._xoptions[IMPORT_DIRECTORY_NAME]\n",
    "    \n",
    "    model_file = import_dir + \"train_emails_v1.joblib.gz\"\n",
    "    model = load(model_file)\n",
    "    \n",
    "    df = pd.DataFrame(\n",
    "        [inputs],\n",
    "        columns = [\n",
    "            'ASSIGNED_AMT',\n",
    "            'DEBT_AGE',\n",
    "            'PREVIOUS_CONTACTS',\n",
    "            'DIALER_AGENT_CALL', \n",
    "            'OUTBOUND_MANUAL_CALL', \n",
    "            'TEXT_MESSAGE',\n",
    "            'VOAPP', \n",
    "            'DIALER_AGENTLESS_CALL',\n",
    "            'LETTER',\n",
    "            'INBOUND_AGENT_CALL',\n",
    "            'EMAIL', \n",
    "            'MEDIAN_HOUSEHOLD_INCOME',\n",
    "            'EXPERIAN_SCORE' \n",
    "        ]\n",
    "    )\n",
    "    df['EXPERIAN_SCORE'] = pd.to_numeric(df['EXPERIAN_SCORE'], errors='coerce')\n",
    "    df['MEDIAN_HOUSEHOLD_INCOME'] = pd.to_numeric(df['MEDIAN_HOUSEHOLD_INCOME'], errors='coerce')\n",
    "    df['ASSIGNED_AMT'] = pd.to_numeric(df['ASSIGNED_AMT'], errors='coerce')\n",
    "    \n",
    "    y_pred = model.predict(df)[0]\n",
    "    y_pred = np.clip(y_pred, a_min=0, a_max=None)\n",
    "    return y_pred"
   ]
  }
 ],
 "metadata": {
  "kernelspec": {
   "display_name": "Python 3 (ipykernel)",
   "language": "python",
   "name": "python3"
  },
  "language_info": {
   "codemirror_mode": {
    "name": "ipython",
    "version": 3
   },
   "file_extension": ".py",
   "mimetype": "text/x-python",
   "name": "python",
   "nbconvert_exporter": "python",
   "pygments_lexer": "ipython3",
   "version": "3.8.10"
  },
  "vscode": {
   "interpreter": {
    "hash": "7c8ad584655f3115f3faf149af311a0ee2d9136268726a222d4f96b417e9ff9e"
   }
  }
 },
 "nbformat": 4,
 "nbformat_minor": 2
}
