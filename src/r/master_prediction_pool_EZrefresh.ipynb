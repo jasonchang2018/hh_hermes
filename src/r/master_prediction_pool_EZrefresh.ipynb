{
 "cells": [
  {
   "cell_type": "code",
   "execution_count": 2,
   "id": "c2b9daa7",
   "metadata": {
    "ExecuteTime": {
     "end_time": "2023-05-02T21:35:31.615875Z",
     "start_time": "2023-05-02T21:35:28.723Z"
    }
   },
   "outputs": [
    {
     "data": {
      "text/html": [
       "<style>\n",
       ".dl-inline {width: auto; margin:0; padding: 0}\n",
       ".dl-inline>dt, .dl-inline>dd {float: none; width: auto; display: inline-block}\n",
       ".dl-inline>dt::after {content: \":\\0020\"; padding-right: .5ex}\n",
       ".dl-inline>dt:not(:first-of-type) {padding-left: .5ex}\n",
       "</style><dl class=dl-inline><dt>odbc</dt><dd>TRUE</dd><dt>RJDBC</dt><dd>TRUE</dd><dt>httr</dt><dd>TRUE</dd><dt>jsonlite</dt><dd>TRUE</dd><dt>googlesheets</dt><dd>TRUE</dd><dt>tidyverse</dt><dd>TRUE</dd><dt>lubridate</dt><dd>TRUE</dd><dt>magrittr</dt><dd>TRUE</dd><dt>tidyr</dt><dd>TRUE</dd><dt>dplyr</dt><dd>TRUE</dd><dt>stringr</dt><dd>TRUE</dd><dt>purrr</dt><dd>TRUE</dd><dt>furrr</dt><dd>TRUE</dd><dt>ggplot2</dt><dd>TRUE</dd><dt>ggpubr</dt><dd>TRUE</dd><dt>cowplot</dt><dd>TRUE</dd><dt>rJava</dt><dd>TRUE</dd><dt>mailR</dt><dd>TRUE</dd><dt>devtools</dt><dd>TRUE</dd><dt>roxygen2</dt><dd>TRUE</dd></dl>\n"
      ],
      "text/latex": [
       "\\begin{description*}\n",
       "\\item[odbc] TRUE\n",
       "\\item[RJDBC] TRUE\n",
       "\\item[httr] TRUE\n",
       "\\item[jsonlite] TRUE\n",
       "\\item[googlesheets] TRUE\n",
       "\\item[tidyverse] TRUE\n",
       "\\item[lubridate] TRUE\n",
       "\\item[magrittr] TRUE\n",
       "\\item[tidyr] TRUE\n",
       "\\item[dplyr] TRUE\n",
       "\\item[stringr] TRUE\n",
       "\\item[purrr] TRUE\n",
       "\\item[furrr] TRUE\n",
       "\\item[ggplot2] TRUE\n",
       "\\item[ggpubr] TRUE\n",
       "\\item[cowplot] TRUE\n",
       "\\item[rJava] TRUE\n",
       "\\item[mailR] TRUE\n",
       "\\item[devtools] TRUE\n",
       "\\item[roxygen2] TRUE\n",
       "\\end{description*}\n"
      ],
      "text/markdown": [
       "odbc\n",
       ":   TRUERJDBC\n",
       ":   TRUEhttr\n",
       ":   TRUEjsonlite\n",
       ":   TRUEgooglesheets\n",
       ":   TRUEtidyverse\n",
       ":   TRUElubridate\n",
       ":   TRUEmagrittr\n",
       ":   TRUEtidyr\n",
       ":   TRUEdplyr\n",
       ":   TRUEstringr\n",
       ":   TRUEpurrr\n",
       ":   TRUEfurrr\n",
       ":   TRUEggplot2\n",
       ":   TRUEggpubr\n",
       ":   TRUEcowplot\n",
       ":   TRUErJava\n",
       ":   TRUEmailR\n",
       ":   TRUEdevtools\n",
       ":   TRUEroxygen2\n",
       ":   TRUE\n",
       "\n"
      ],
      "text/plain": [
       "        odbc        RJDBC         httr     jsonlite googlesheets    tidyverse \n",
       "        TRUE         TRUE         TRUE         TRUE         TRUE         TRUE \n",
       "   lubridate     magrittr        tidyr        dplyr      stringr        purrr \n",
       "        TRUE         TRUE         TRUE         TRUE         TRUE         TRUE \n",
       "       furrr      ggplot2       ggpubr      cowplot        rJava        mailR \n",
       "        TRUE         TRUE         TRUE         TRUE         TRUE         TRUE \n",
       "    devtools     roxygen2 \n",
       "        TRUE         TRUE "
      ]
     },
     "metadata": {},
     "output_type": "display_data"
    }
   ],
   "source": [
    "library(hh.analytics)\n",
    "library(hh.snowflake)\n",
    "\n",
    "load.packages()"
   ]
  },
  {
   "cell_type": "code",
   "execution_count": 3,
   "id": "0490fbb1",
   "metadata": {
    "ExecuteTime": {
     "end_time": "2023-05-02T21:47:38.511086Z",
     "start_time": "2023-05-02T21:35:30.882Z"
    }
   },
   "outputs": [
    {
     "name": "stderr",
     "output_type": "stream",
     "text": [
      "Warning message in readLines(.):\n",
      "\"incomplete final line found on 'transform_businessrules_contact_cooldown.sql'\"\n",
      "Warning message in readLines(.):\n",
      "\"incomplete final line found on 'transform_businessrules_debtor_balance.sql'\"\n",
      "Warning message in readLines(.):\n",
      "\"incomplete final line found on 'transform_businessrules_debtor_experian.sql'\"\n",
      "Warning message in readLines(.):\n",
      "\"incomplete final line found on 'transform_businessrules_debtor_income.sql'\"\n",
      "Warning message in readLines(.):\n",
      "\"incomplete final line found on 'transform_businessrules_debtor_lastpayment.sql'\"\n",
      "Warning message in readLines(.):\n",
      "\"incomplete final line found on 'transform_businessrules_debtor_maturity.sql'\"\n",
      "Warning message in readLines(.):\n",
      "\"incomplete final line found on 'transform_businessrules_debtor_payplan.sql'\"\n",
      "Warning message in readLines(.):\n",
      "\"incomplete final line found on 'transform_businessrules_debtor_taxyear.sql'\"\n",
      "Warning message in readLines(.):\n",
      "\"incomplete final line found on 'transform_criteria_client_allowed_calls.sql'\"\n",
      "Warning message in readLines(.):\n",
      "\"incomplete final line found on 'transform_criteria_client_allowed_letters.sql'\"\n",
      "Warning message in readLines(.):\n",
      "\"incomplete final line found on 'transform_criteria_client_allowed_texts.sql'\"\n",
      "Warning message in readLines(.):\n",
      "\"incomplete final line found on 'transform_criteria_client_allowed_voapps.sql'\"\n",
      "Warning message in readLines(.):\n",
      "\"incomplete final line found on 'transform_criteria_client_allowed_contacts.sql'\"\n",
      "Warning message in readLines(.):\n",
      "\"incomplete final line found on 'transform_criteria_address_allowed_email.sql'\"\n",
      "Warning message in readLines(.):\n",
      "\"incomplete final line found on 'transform_criteria_address_allowed_mail.sql'\"\n",
      "Warning message in readLines(.):\n",
      "\"incomplete final line found on 'transform_criteria_address_allowed_phone.sql'\"\n",
      "Warning message in readLines(.):\n",
      "\"incomplete final line found on 'transform_criteria_debtor_status.sql'\"\n",
      "Warning message in readLines(.):\n",
      "\"incomplete final line found on 'transform_criteria_validation_clients.sql'\"\n",
      "Warning message in readLines(.):\n",
      "\"incomplete final line found on 'transform_criteria_validation_requirement.sql'\"\n",
      "Warning message in readLines(.):\n",
      "\"incomplete final line found on 'transform_prediction_pool.sql'\"\n"
     ]
    }
   ],
   "source": [
    "x = list.files() %>% \n",
    "    \n",
    "    ##  Get Files Names\n",
    "    data.frame(\n",
    "        file_name = .\n",
    "    ) %>% \n",
    "    filter(\n",
    "        file_name %>% str_detect(\"\\\\.sql$\") &\n",
    "        (\n",
    "            file_name %>% str_detect(\"^transform_(?:businessrules|criteria)\") |\n",
    "            file_name %>% str_detect(\"^transform_prediction_pool\")\n",
    "#             file_name %>% str_detect(\"^master_prediction_pool\")\n",
    "        )\n",
    "    ) %>% \n",
    "\n",
    "    ##  Set Refresh Order\n",
    "    mutate(\n",
    "        priority = case_when(\n",
    "            file_name %>% str_detect(\"^transform_businessrules\")                     ~ 1,\n",
    "            file_name %>% str_detect(\"^transform_criteria_client_allowed_contacts\")  ~ 3,\n",
    "            file_name %>% str_detect(\"^transform_criteria_client_allowed_\")          ~ 2,\n",
    "            file_name %>% str_detect(\"^transform_criteria\")                          ~ 4,\n",
    "            file_name %>% str_detect(\"^transform_prediction_pool\")                   ~ 5,\n",
    "            file_name %>% str_detect(\"^master_prediction_pool\")                      ~ 6\n",
    "        )\n",
    "    ) %>% \n",
    "    arrange(\n",
    "        priority,\n",
    "        file_name\n",
    "    ) %>% \n",
    "\n",
    "#     filter(\n",
    "#         file_name %>% str_detect(\"^transform_prediction_pool\")  |\n",
    "#         file_name %>% str_detect(\"^transform_prediction_pool\")  |\n",
    "#         file_name %>% str_detect(\"^master_prediction_pool\")\n",
    "#     ) %>% \n",
    "\n",
    "    mutate(\n",
    "        query = file_name %>% map_chr(.f = ~ .x %>% readLines() %>% paste0(collapse = \"\\n\")),\n",
    "        execute = query %>% map(.f = ~ .x %>% querySnowflake())\n",
    "    )"
   ]
  },
  {
   "cell_type": "code",
   "execution_count": 4,
   "id": "ec01ce6b",
   "metadata": {
    "ExecuteTime": {
     "end_time": "2023-05-02T21:47:38.657330Z",
     "start_time": "2023-05-02T21:35:33.569Z"
    }
   },
   "outputs": [
    {
     "data": {
      "text/html": [
       "<table class=\"dataframe\">\n",
       "<caption>A grouped_df: 20 × 2</caption>\n",
       "<thead>\n",
       "\t<tr><th scope=col>status</th><th scope=col>n</th></tr>\n",
       "\t<tr><th scope=col>&lt;chr&gt;</th><th scope=col>&lt;int&gt;</th></tr>\n",
       "</thead>\n",
       "<tbody>\n",
       "\t<tr><td>Table TRANSFORM_BUSINESSRULES_CONTACT_COOLDOWN successfully created.  </td><td>1</td></tr>\n",
       "\t<tr><td>Table TRANSFORM_BUSINESSRULES_DEBTOR_BALANCE successfully created.    </td><td>1</td></tr>\n",
       "\t<tr><td>Table TRANSFORM_BUSINESSRULES_DEBTOR_EXPERIAN successfully created.   </td><td>1</td></tr>\n",
       "\t<tr><td>Table TRANSFORM_BUSINESSRULES_DEBTOR_INCOME successfully created.     </td><td>1</td></tr>\n",
       "\t<tr><td>Table TRANSFORM_BUSINESSRULES_DEBTOR_LASTPAYMENT successfully created.</td><td>1</td></tr>\n",
       "\t<tr><td>Table TRANSFORM_BUSINESSRULES_DEBTOR_MATURITY successfully created.   </td><td>1</td></tr>\n",
       "\t<tr><td>Table TRANSFORM_BUSINESSRULES_DEBTOR_PAYPLAN successfully created.    </td><td>1</td></tr>\n",
       "\t<tr><td>Table TRANSFORM_BUSINESSRULES_DEBTOR_TAXYEAR successfully created.    </td><td>1</td></tr>\n",
       "\t<tr><td>Table TRANSFORM_CRITERIA_ADDRESS_ALLOWED_EMAIL successfully created.  </td><td>1</td></tr>\n",
       "\t<tr><td>Table TRANSFORM_CRITERIA_ADDRESS_ALLOWED_MAIL successfully created.   </td><td>1</td></tr>\n",
       "\t<tr><td>Table TRANSFORM_CRITERIA_ADDRESS_ALLOWED_PHONE successfully created.  </td><td>1</td></tr>\n",
       "\t<tr><td>Table TRANSFORM_CRITERIA_CLIENT_ALLOWED_CALLS successfully created.   </td><td>1</td></tr>\n",
       "\t<tr><td>Table TRANSFORM_CRITERIA_CLIENT_ALLOWED_CONTACTS successfully created.</td><td>1</td></tr>\n",
       "\t<tr><td>Table TRANSFORM_CRITERIA_CLIENT_ALLOWED_LETTERS successfully created. </td><td>1</td></tr>\n",
       "\t<tr><td>Table TRANSFORM_CRITERIA_CLIENT_ALLOWED_TEXTS successfully created.   </td><td>1</td></tr>\n",
       "\t<tr><td>Table TRANSFORM_CRITERIA_CLIENT_ALLOWED_VOAPPS successfully created.  </td><td>1</td></tr>\n",
       "\t<tr><td>Table TRANSFORM_CRITERIA_DEBTOR_STATUS successfully created.          </td><td>1</td></tr>\n",
       "\t<tr><td>Table TRANSFORM_CRITERIA_VALIDATION_CLIENTS successfully created.     </td><td>1</td></tr>\n",
       "\t<tr><td>Table TRANSFORM_CRITERIA_VALIDATION_REQUIREMENT successfully created. </td><td>1</td></tr>\n",
       "\t<tr><td>Table TRANSFORM_PREDICTION_POOL successfully created.                 </td><td>1</td></tr>\n",
       "</tbody>\n",
       "</table>\n"
      ],
      "text/latex": [
       "A grouped\\_df: 20 × 2\n",
       "\\begin{tabular}{ll}\n",
       " status & n\\\\\n",
       " <chr> & <int>\\\\\n",
       "\\hline\n",
       "\t Table TRANSFORM\\_BUSINESSRULES\\_CONTACT\\_COOLDOWN successfully created.   & 1\\\\\n",
       "\t Table TRANSFORM\\_BUSINESSRULES\\_DEBTOR\\_BALANCE successfully created.     & 1\\\\\n",
       "\t Table TRANSFORM\\_BUSINESSRULES\\_DEBTOR\\_EXPERIAN successfully created.    & 1\\\\\n",
       "\t Table TRANSFORM\\_BUSINESSRULES\\_DEBTOR\\_INCOME successfully created.      & 1\\\\\n",
       "\t Table TRANSFORM\\_BUSINESSRULES\\_DEBTOR\\_LASTPAYMENT successfully created. & 1\\\\\n",
       "\t Table TRANSFORM\\_BUSINESSRULES\\_DEBTOR\\_MATURITY successfully created.    & 1\\\\\n",
       "\t Table TRANSFORM\\_BUSINESSRULES\\_DEBTOR\\_PAYPLAN successfully created.     & 1\\\\\n",
       "\t Table TRANSFORM\\_BUSINESSRULES\\_DEBTOR\\_TAXYEAR successfully created.     & 1\\\\\n",
       "\t Table TRANSFORM\\_CRITERIA\\_ADDRESS\\_ALLOWED\\_EMAIL successfully created.   & 1\\\\\n",
       "\t Table TRANSFORM\\_CRITERIA\\_ADDRESS\\_ALLOWED\\_MAIL successfully created.    & 1\\\\\n",
       "\t Table TRANSFORM\\_CRITERIA\\_ADDRESS\\_ALLOWED\\_PHONE successfully created.   & 1\\\\\n",
       "\t Table TRANSFORM\\_CRITERIA\\_CLIENT\\_ALLOWED\\_CALLS successfully created.    & 1\\\\\n",
       "\t Table TRANSFORM\\_CRITERIA\\_CLIENT\\_ALLOWED\\_CONTACTS successfully created. & 1\\\\\n",
       "\t Table TRANSFORM\\_CRITERIA\\_CLIENT\\_ALLOWED\\_LETTERS successfully created.  & 1\\\\\n",
       "\t Table TRANSFORM\\_CRITERIA\\_CLIENT\\_ALLOWED\\_TEXTS successfully created.    & 1\\\\\n",
       "\t Table TRANSFORM\\_CRITERIA\\_CLIENT\\_ALLOWED\\_VOAPPS successfully created.   & 1\\\\\n",
       "\t Table TRANSFORM\\_CRITERIA\\_DEBTOR\\_STATUS successfully created.           & 1\\\\\n",
       "\t Table TRANSFORM\\_CRITERIA\\_VALIDATION\\_CLIENTS successfully created.      & 1\\\\\n",
       "\t Table TRANSFORM\\_CRITERIA\\_VALIDATION\\_REQUIREMENT successfully created.  & 1\\\\\n",
       "\t Table TRANSFORM\\_PREDICTION\\_POOL successfully created.                  & 1\\\\\n",
       "\\end{tabular}\n"
      ],
      "text/markdown": [
       "\n",
       "A grouped_df: 20 × 2\n",
       "\n",
       "| status &lt;chr&gt; | n &lt;int&gt; |\n",
       "|---|---|\n",
       "| Table TRANSFORM_BUSINESSRULES_CONTACT_COOLDOWN successfully created.   | 1 |\n",
       "| Table TRANSFORM_BUSINESSRULES_DEBTOR_BALANCE successfully created.     | 1 |\n",
       "| Table TRANSFORM_BUSINESSRULES_DEBTOR_EXPERIAN successfully created.    | 1 |\n",
       "| Table TRANSFORM_BUSINESSRULES_DEBTOR_INCOME successfully created.      | 1 |\n",
       "| Table TRANSFORM_BUSINESSRULES_DEBTOR_LASTPAYMENT successfully created. | 1 |\n",
       "| Table TRANSFORM_BUSINESSRULES_DEBTOR_MATURITY successfully created.    | 1 |\n",
       "| Table TRANSFORM_BUSINESSRULES_DEBTOR_PAYPLAN successfully created.     | 1 |\n",
       "| Table TRANSFORM_BUSINESSRULES_DEBTOR_TAXYEAR successfully created.     | 1 |\n",
       "| Table TRANSFORM_CRITERIA_ADDRESS_ALLOWED_EMAIL successfully created.   | 1 |\n",
       "| Table TRANSFORM_CRITERIA_ADDRESS_ALLOWED_MAIL successfully created.    | 1 |\n",
       "| Table TRANSFORM_CRITERIA_ADDRESS_ALLOWED_PHONE successfully created.   | 1 |\n",
       "| Table TRANSFORM_CRITERIA_CLIENT_ALLOWED_CALLS successfully created.    | 1 |\n",
       "| Table TRANSFORM_CRITERIA_CLIENT_ALLOWED_CONTACTS successfully created. | 1 |\n",
       "| Table TRANSFORM_CRITERIA_CLIENT_ALLOWED_LETTERS successfully created.  | 1 |\n",
       "| Table TRANSFORM_CRITERIA_CLIENT_ALLOWED_TEXTS successfully created.    | 1 |\n",
       "| Table TRANSFORM_CRITERIA_CLIENT_ALLOWED_VOAPPS successfully created.   | 1 |\n",
       "| Table TRANSFORM_CRITERIA_DEBTOR_STATUS successfully created.           | 1 |\n",
       "| Table TRANSFORM_CRITERIA_VALIDATION_CLIENTS successfully created.      | 1 |\n",
       "| Table TRANSFORM_CRITERIA_VALIDATION_REQUIREMENT successfully created.  | 1 |\n",
       "| Table TRANSFORM_PREDICTION_POOL successfully created.                  | 1 |\n",
       "\n"
      ],
      "text/plain": [
       "   status                                                                 n\n",
       "1  Table TRANSFORM_BUSINESSRULES_CONTACT_COOLDOWN successfully created.   1\n",
       "2  Table TRANSFORM_BUSINESSRULES_DEBTOR_BALANCE successfully created.     1\n",
       "3  Table TRANSFORM_BUSINESSRULES_DEBTOR_EXPERIAN successfully created.    1\n",
       "4  Table TRANSFORM_BUSINESSRULES_DEBTOR_INCOME successfully created.      1\n",
       "5  Table TRANSFORM_BUSINESSRULES_DEBTOR_LASTPAYMENT successfully created. 1\n",
       "6  Table TRANSFORM_BUSINESSRULES_DEBTOR_MATURITY successfully created.    1\n",
       "7  Table TRANSFORM_BUSINESSRULES_DEBTOR_PAYPLAN successfully created.     1\n",
       "8  Table TRANSFORM_BUSINESSRULES_DEBTOR_TAXYEAR successfully created.     1\n",
       "9  Table TRANSFORM_CRITERIA_ADDRESS_ALLOWED_EMAIL successfully created.   1\n",
       "10 Table TRANSFORM_CRITERIA_ADDRESS_ALLOWED_MAIL successfully created.    1\n",
       "11 Table TRANSFORM_CRITERIA_ADDRESS_ALLOWED_PHONE successfully created.   1\n",
       "12 Table TRANSFORM_CRITERIA_CLIENT_ALLOWED_CALLS successfully created.    1\n",
       "13 Table TRANSFORM_CRITERIA_CLIENT_ALLOWED_CONTACTS successfully created. 1\n",
       "14 Table TRANSFORM_CRITERIA_CLIENT_ALLOWED_LETTERS successfully created.  1\n",
       "15 Table TRANSFORM_CRITERIA_CLIENT_ALLOWED_TEXTS successfully created.    1\n",
       "16 Table TRANSFORM_CRITERIA_CLIENT_ALLOWED_VOAPPS successfully created.   1\n",
       "17 Table TRANSFORM_CRITERIA_DEBTOR_STATUS successfully created.           1\n",
       "18 Table TRANSFORM_CRITERIA_VALIDATION_CLIENTS successfully created.      1\n",
       "19 Table TRANSFORM_CRITERIA_VALIDATION_REQUIREMENT successfully created.  1\n",
       "20 Table TRANSFORM_PREDICTION_POOL successfully created.                  1"
      ]
     },
     "metadata": {},
     "output_type": "display_data"
    }
   ],
   "source": [
    "x %>% unnest(execute) %>% group_by(status) %>% count()"
   ]
  },
  {
   "cell_type": "code",
   "execution_count": null,
   "id": "72671dfc",
   "metadata": {},
   "outputs": [],
   "source": []
  }
 ],
 "metadata": {
  "kernelspec": {
   "display_name": "R",
   "language": "R",
   "name": "ir"
  },
  "language_info": {
   "codemirror_mode": "r",
   "file_extension": ".r",
   "mimetype": "text/x-r-source",
   "name": "R",
   "pygments_lexer": "r",
   "version": "4.1.2"
  }
 },
 "nbformat": 4,
 "nbformat_minor": 5
}
